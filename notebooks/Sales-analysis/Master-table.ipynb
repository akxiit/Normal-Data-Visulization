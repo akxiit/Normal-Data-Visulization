{
 "cells": [
  {
   "cell_type": "code",
   "execution_count": 1,
   "metadata": {},
   "outputs": [],
   "source": [
    "import numpy as np\n",
    "import pandas as pd\n",
    "import matplotlib.pyplot as plt\n",
    "import seaborn as sns"
   ]
  },
  {
   "cell_type": "code",
   "execution_count": 6,
   "metadata": {},
   "outputs": [],
   "source": [
    "df = pd.read_excel('D:/Project/Normal-Data-Visulization/datasets/Sale-Analysis/MasterTable.xlsx')"
   ]
  },
  {
   "cell_type": "code",
   "execution_count": 8,
   "metadata": {},
   "outputs": [
    {
     "data": {
      "text/plain": [
       "Index(['order_id', 'customer_id', 'delivery_partner_id', 'product_id',\n",
       "       'feedback_id', 'area', 'customer_name', 'customer_segment',\n",
       "       'product_name', 'category', 'price', 'promised_time', 'actual_time',\n",
       "       'delivery_time_minutes', 'reasons_if_delayed', 'rating',\n",
       "       'feedback_category', 'feedback_text', 'feedback_segment', 'Date',\n",
       "       'Value_Type', 'Value', 'order_datetime', 'Emoji', 'star', 'img',\n",
       "       'payment_method', 'Rating_label'],\n",
       "      dtype='object')"
      ]
     },
     "execution_count": 8,
     "metadata": {},
     "output_type": "execute_result"
    }
   ],
   "source": []
  }
 ],
 "metadata": {
  "kernelspec": {
   "display_name": "Python 3",
   "language": "python",
   "name": "python3"
  },
  "language_info": {
   "codemirror_mode": {
    "name": "ipython",
    "version": 3
   },
   "file_extension": ".py",
   "mimetype": "text/x-python",
   "name": "python",
   "nbconvert_exporter": "python",
   "pygments_lexer": "ipython3",
   "version": "3.13.0"
  }
 },
 "nbformat": 4,
 "nbformat_minor": 2
}
